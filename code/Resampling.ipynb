{
 "cells": [
  {
   "cell_type": "code",
   "execution_count": 16,
   "metadata": {
    "collapsed": false
   },
   "outputs": [],
   "source": [
    "import numpy as np\n",
    "np.random.seed(123)\n",
    "\n",
    "a = np.random.choice(4, 12)\n"
   ]
  },
  {
   "cell_type": "code",
   "execution_count": 17,
   "metadata": {
    "collapsed": false
   },
   "outputs": [
    {
     "data": {
      "text/plain": [
       "array([3, 3, 1, 0, 0, 3, 1, 0, 0, 3, 0, 0])"
      ]
     },
     "execution_count": 17,
     "metadata": {},
     "output_type": "execute_result"
    }
   ],
   "source": [
    "np.random.choice(4,12, p=[.4, .1, .1, .4])\n"
   ]
  },
  {
   "cell_type": "code",
   "execution_count": 18,
   "metadata": {
    "collapsed": true
   },
   "outputs": [],
   "source": [
    "x = np.random.randint(0, 10, (8, 12))\n"
   ]
  },
  {
   "cell_type": "code",
   "execution_count": 8,
   "metadata": {
    "collapsed": false
   },
   "outputs": [
    {
     "data": {
      "text/plain": [
       "array([8, 8, 1, 3, 5, 0, 2, 0, 0, 0, 8, 7])"
      ]
     },
     "execution_count": 8,
     "metadata": {},
     "output_type": "execute_result"
    }
   ],
   "source": [
    "# sampling individual elements\n",
    "np.random.choice(x.ravel(), 12)\n"
   ]
  },
  {
   "cell_type": "code",
   "execution_count": 9,
   "metadata": {
    "collapsed": false
   },
   "outputs": [
    {
     "data": {
      "text/plain": [
       "array([[3, 8, 6, 3, 3, 3, 5, 5, 8, 6, 6, 2],\n",
       "       [3, 9, 2, 8, 3, 5, 9, 5, 8, 4, 0, 3],\n",
       "       [8, 4, 1, 2, 8, 3, 5, 8, 4, 0, 6, 0],\n",
       "       [1, 0, 1, 3, 8, 2, 8, 8, 1, 3, 6, 1]])"
      ]
     },
     "execution_count": 9,
     "metadata": {},
     "output_type": "execute_result"
    }
   ],
   "source": [
    "idx = np.random.choice(x.shape[0], 4)\n",
    "x[idx, :]\n"
   ]
  },
  {
   "cell_type": "code",
   "execution_count": 10,
   "metadata": {
    "collapsed": false
   },
   "outputs": [
    {
     "data": {
      "text/plain": [
       "array([1, 7, 3, 6])"
      ]
     },
     "execution_count": 10,
     "metadata": {},
     "output_type": "execute_result"
    }
   ],
   "source": [
    "idx"
   ]
  },
  {
   "cell_type": "code",
   "execution_count": 12,
   "metadata": {
    "collapsed": false
   },
   "outputs": [
    {
     "data": {
      "text/plain": [
       "(8, 12)"
      ]
     },
     "execution_count": 12,
     "metadata": {},
     "output_type": "execute_result"
    }
   ],
   "source": [
    "x.shape"
   ]
  },
  {
   "cell_type": "code",
   "execution_count": 13,
   "metadata": {
    "collapsed": false
   },
   "outputs": [
    {
     "data": {
      "text/plain": [
       "array([[2, 5, 8, 1],\n",
       "       [3, 3, 6, 3],\n",
       "       [1, 7, 9, 4],\n",
       "       [3, 8, 1, 8],\n",
       "       [2, 6, 0, 8],\n",
       "       [9, 7, 1, 8],\n",
       "       [2, 8, 1, 1],\n",
       "       [5, 3, 2, 3]])"
      ]
     },
     "execution_count": 13,
     "metadata": {},
     "output_type": "execute_result"
    }
   ],
   "source": [
    "# sampling columns\n",
    "idx = np.random.choice(x.shape[1], 4)\n",
    "x[:, idx]\n"
   ]
  },
  {
   "cell_type": "code",
   "execution_count": 14,
   "metadata": {
    "collapsed": false
   },
   "outputs": [
    {
     "name": "stdout",
     "output_type": "stream",
     "text": [
      "Cannot take a larger sample than population when 'replace=False'\n"
     ]
    }
   ],
   "source": [
    "# Give the argument replace=False\n",
    "try:\n",
    "    np.random.choice(4, 12, replace=False)\n",
    "except ValueError, e:\n",
    "    print e\n"
   ]
  },
  {
   "cell_type": "code",
   "execution_count": 19,
   "metadata": {
    "collapsed": false
   },
   "outputs": [
    {
     "data": {
      "text/plain": [
       "array([[7, 2, 4, 8, 0, 7, 9, 3, 4, 6, 1, 5],\n",
       "       [6, 2, 1, 8, 3, 5, 0, 2, 6, 2, 4, 4],\n",
       "       [6, 3, 0, 6, 4, 7, 6, 7, 1, 5, 7, 9],\n",
       "       [2, 4, 8, 1, 2, 1, 1, 3, 5, 9, 0, 8],\n",
       "       [1, 6, 3, 3, 5, 9, 7, 9, 2, 3, 3, 3],\n",
       "       [8, 6, 9, 7, 6, 3, 9, 6, 6, 6, 1, 3],\n",
       "       [4, 3, 1, 0, 5, 8, 6, 8, 9, 1, 0, 3],\n",
       "       [1, 3, 4, 7, 6, 1, 4, 3, 3, 7, 6, 8]])"
      ]
     },
     "execution_count": 19,
     "metadata": {},
     "output_type": "execute_result"
    }
   ],
   "source": [
    "x\n"
   ]
  },
  {
   "cell_type": "code",
   "execution_count": 22,
   "metadata": {
    "collapsed": true
   },
   "outputs": [],
   "source": [
    "# shuffle rows\n",
    "np.random.shuffle(x)"
   ]
  },
  {
   "cell_type": "code",
   "execution_count": 23,
   "metadata": {
    "collapsed": false
   },
   "outputs": [
    {
     "data": {
      "text/plain": [
       "array([[3, 7, 5, 2, 9, 6, 9, 3, 3, 3, 1, 3],\n",
       "       [7, 4, 6, 3, 3, 3, 1, 4, 7, 8, 1, 6],\n",
       "       [8, 9, 0, 4, 3, 2, 7, 4, 6, 5, 7, 1],\n",
       "       [1, 1, 2, 5, 3, 4, 1, 8, 9, 8, 2, 0],\n",
       "       [8, 0, 3, 6, 2, 2, 5, 1, 2, 4, 6, 4],\n",
       "       [6, 6, 4, 1, 7, 3, 7, 0, 5, 9, 6, 7],\n",
       "       [0, 6, 5, 9, 8, 3, 8, 1, 1, 3, 4, 0],\n",
       "       [7, 9, 6, 6, 6, 6, 3, 9, 6, 3, 8, 1]])"
      ]
     },
     "execution_count": 23,
     "metadata": {},
     "output_type": "execute_result"
    }
   ],
   "source": [
    "np.random.shuffle(x.T)\n",
    "x\n"
   ]
  },
  {
   "cell_type": "code",
   "execution_count": 25,
   "metadata": {
    "collapsed": false
   },
   "outputs": [
    {
     "data": {
      "text/plain": [
       "array([[3, 7, 5, 2, 9, 6, 9, 3, 3, 3, 1, 3],\n",
       "       [0, 6, 5, 9, 8, 3, 8, 1, 1, 3, 4, 0],\n",
       "       [1, 1, 2, 5, 3, 4, 1, 8, 9, 8, 2, 0],\n",
       "       [8, 0, 3, 6, 2, 2, 5, 1, 2, 4, 6, 4],\n",
       "       [7, 9, 6, 6, 6, 6, 3, 9, 6, 3, 8, 1],\n",
       "       [8, 9, 0, 4, 3, 2, 7, 4, 6, 5, 7, 1],\n",
       "       [7, 4, 6, 3, 3, 3, 1, 4, 7, 8, 1, 6],\n",
       "       [6, 6, 4, 1, 7, 3, 7, 0, 5, 9, 6, 7]])"
      ]
     },
     "execution_count": 25,
     "metadata": {},
     "output_type": "execute_result"
    }
   ],
   "source": [
    "# numpy.random.permutation does the same thing but returns a copy\n",
    "\n",
    "np.random.permutation(x)\n"
   ]
  },
  {
   "cell_type": "code",
   "execution_count": 26,
   "metadata": {
    "collapsed": false
   },
   "outputs": [
    {
     "data": {
      "text/plain": [
       "array([4, 0, 6, 7, 5, 1, 8, 2, 3, 9])"
      ]
     },
     "execution_count": 26,
     "metadata": {},
     "output_type": "execute_result"
    }
   ],
   "source": [
    "# When given an integre n, permutation treats is as the array arange(n)\n",
    "np.random.permutation(10)\n"
   ]
  },
  {
   "cell_type": "code",
   "execution_count": 28,
   "metadata": {
    "collapsed": false
   },
   "outputs": [
    {
     "name": "stdout",
     "output_type": "stream",
     "text": [
      "[3 0 2 1]\n",
      "[[ 9 10 11]\n",
      " [ 0  1  2]\n",
      " [ 6  7  8]\n",
      " [ 3  4  5]] \n",
      "\n",
      "[[19 20 21]\n",
      " [10 11 12]\n",
      " [16 17 18]\n",
      " [13 14 15]]\n"
     ]
    }
   ],
   "source": [
    "# Use indices if you needed to shuffle collections of arrays in synchrony\n",
    "x = np.arange(12).reshape(4,3)\n",
    "y = x + 10\n",
    "idx = np.random.permutation(x.shape[0])\n",
    "print idx\n",
    "print x[idx, :], '\\n'\n",
    "print y[idx, :]"
   ]
  },
  {
   "cell_type": "markdown",
   "metadata": {},
   "source": [
    "Leave some out resampling\n",
    "\n",
    "Jackknife estimate of parameters"
   ]
  },
  {
   "cell_type": "code",
   "execution_count": 33,
   "metadata": {
    "collapsed": true
   },
   "outputs": [],
   "source": [
    "def jackknife(x, func):\n",
    "    \"\"\"Jackknife estimate of the estimator func\"\"\"\n",
    "    n = len(x)\n",
    "    idx = np.arange(n)\n",
    "    return np.sum(func(x[idx!=i]) for i in range(n))/float(n)"
   ]
  },
  {
   "cell_type": "code",
   "execution_count": 34,
   "metadata": {
    "collapsed": false
   },
   "outputs": [
    {
     "data": {
      "text/plain": [
       "1.9965505144930473"
      ]
     },
     "execution_count": 34,
     "metadata": {},
     "output_type": "execute_result"
    }
   ],
   "source": [
    "# Jackknife estimate of standard deviation\n",
    "x = np.random.normal(0, 2, 100)\n",
    "jackknife(x, np.std)"
   ]
  },
  {
   "cell_type": "code",
   "execution_count": 35,
   "metadata": {
    "collapsed": true
   },
   "outputs": [],
   "source": [
    "def jackknife_var(x, func):\n",
    "    \"\"\"Jackknife estiamte of the variance of the estimator func.\"\"\"\n",
    "    n = len(x)\n",
    "    idx = np.arange(n)\n",
    "    j_est = jackknife(x, func)\n",
    "    return (n-1)/(n + 0.0) * np.sum((func(x[idx!=i]) - j_est)**2.0\n",
    "                                    for i in range(n))"
   ]
  },
  {
   "cell_type": "code",
   "execution_count": 36,
   "metadata": {
    "collapsed": false
   },
   "outputs": [
    {
     "data": {
      "text/plain": [
       "0.01593220512973335"
      ]
     },
     "execution_count": 36,
     "metadata": {},
     "output_type": "execute_result"
    }
   ],
   "source": [
    "# estimate of the variance of an estimator\n",
    "jackknife_var(x, np.std)"
   ]
  },
  {
   "cell_type": "markdown",
   "metadata": {},
   "source": [
    "Leave one out cross validation (LOOCV)¶\n",
    "\n",
    "LOOCV also uses the same idiom, and a simple example of LOOCV for model selection is illustrated.\n",
    "\n"
   ]
  },
  {
   "cell_type": "code",
   "execution_count": 37,
   "metadata": {
    "collapsed": true
   },
   "outputs": [],
   "source": [
    "a, b, c = 1, 2, 3\n",
    "x = np.linspace(0, 5, 10)\n",
    "y = a*x**2 + b*x + c + np.random.normal(0, 1, len(x))"
   ]
  },
  {
   "cell_type": "code",
   "execution_count": 41,
   "metadata": {
    "collapsed": false
   },
   "outputs": [
    {
     "data": {
      "image/png": "[encoded data removed]",
      "text/plain": [
       "<matplotlib.figure.Figure at 0x109d44b10>"
      ]
     },
     "metadata": {},
     "output_type": "display_data"
    }
   ],
   "source": [
    "import matplotlib.pyplot as plt\n",
    "%matplotlib inline\n",
    "\n",
    "plt.figure(figsize=(12,4))\n",
    "for deg in range(1, 5):\n",
    "    plt.subplot(1, 4, deg)\n",
    "    beta = np.polyfit(x, y, deg)\n",
    "    plt.plot(x, y, 'r:o')\n",
    "    plt.plot(x, np.polyval(beta, x), 'b-')\n",
    "    plt.title('Degree = %d' % deg)"
   ]
  },
  {
   "cell_type": "code",
   "execution_count": 42,
   "metadata": {
    "collapsed": true
   },
   "outputs": [],
   "source": [
    "def loocv(x, y, fit, pred, deg):\n",
    "    \"\"\"LOOCV RSS for fitting a polynomial model.\"\"\"\n",
    "    n = len(x)\n",
    "    idx = np.arange(n)\n",
    "    rss = np.sum([(y - pred(fit(x[idx!=i], y[idx!=i], deg), x))**2.0 for i in range(n)])\n",
    "    return rss"
   ]
  },
  {
   "cell_type": "code",
   "execution_count": 43,
   "metadata": {
    "collapsed": false
   },
   "outputs": [
    {
     "name": "stdout",
     "output_type": "stream",
     "text": [
      "Degree = 1, RSS=98.60\n",
      "Degree = 2, RSS=9.93\n",
      "Degree = 3, RSS=9.69\n",
      "Degree = 4, RSS=9.04\n"
     ]
    }
   ],
   "source": [
    "# RSS does not detect overfitting and selects the most complex model\n",
    "for deg in range(1, 5):\n",
    "    print 'Degree = %d, RSS=%.2f' % (deg, np.sum((y - np.polyval(np.polyfit(x, y, deg), x))**2.0))\n"
   ]
  },
  {
   "cell_type": "code",
   "execution_count": 44,
   "metadata": {
    "collapsed": false
   },
   "outputs": [
    {
     "name": "stdout",
     "output_type": "stream",
     "text": [
      "Degree = 1, RSS=1031.40\n",
      "Degree = 2, RSS=103.48\n",
      "Degree = 3, RSS=103.88\n",
      "Degree = 4, RSS=100.84\n"
     ]
    }
   ],
   "source": [
    "# LOOCV selects the correct model\n",
    "for deg in range(1, 5):\n",
    "    print 'Degree = %d, RSS=%.2f' % (deg, loocv(x, y, np.polyfit, np.polyval, deg))\n"
   ]
  },
  {
   "cell_type": "code",
   "execution_count": null,
   "metadata": {
    "collapsed": true
   },
   "outputs": [],
   "source": []
  }
 ],
 "metadata": {
  "kernelspec": {
   "display_name": "Python 2",
   "language": "python",
   "name": "python2"
  },
  "language_info": {
   "codemirror_mode": {
    "name": "ipython",
    "version": 2
   },
   "file_extension": ".py",
   "mimetype": "text/x-python",
   "name": "python",
   "nbconvert_exporter": "python",
   "pygments_lexer": "ipython2",
   "version": "2.7.12"
  }
 },
 "nbformat": 4,
 "nbformat_minor": 0
}
